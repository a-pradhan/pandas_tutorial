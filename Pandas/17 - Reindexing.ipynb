{
 "cells": [
  {
   "cell_type": "code",
   "execution_count": 3,
   "metadata": {
    "collapsed": false
   },
   "outputs": [],
   "source": [
    "import numpy as np\n",
    "import pandas as pd\n",
    "from pandas import Series, DataFrame\n",
    "\n",
    "from numpy.random import randn"
   ]
  },
  {
   "cell_type": "code",
   "execution_count": 5,
   "metadata": {
    "collapsed": false
   },
   "outputs": [
    {
     "data": {
      "text/plain": [
       "A    1\n",
       "B    2\n",
       "C    3\n",
       "D    4\n",
       "dtype: int64"
      ]
     },
     "execution_count": 5,
     "metadata": {},
     "output_type": "execute_result"
    }
   ],
   "source": [
    "ser1 = Series([1,2,3,4], index=['A', 'B', 'C', 'D'])\n",
    "ser1"
   ]
  },
  {
   "cell_type": "code",
   "execution_count": 6,
   "metadata": {
    "collapsed": false
   },
   "outputs": [
    {
     "data": {
      "text/plain": [
       "A    1.0\n",
       "B    2.0\n",
       "C    3.0\n",
       "D    4.0\n",
       "E    NaN\n",
       "F    NaN\n",
       "dtype: float64"
      ]
     },
     "execution_count": 6,
     "metadata": {},
     "output_type": "execute_result"
    }
   ],
   "source": [
    "ser2 = ser1.reindex(['A','B','C','D','E','F'])\n",
    "ser2"
   ]
  },
  {
   "cell_type": "code",
   "execution_count": 8,
   "metadata": {
    "collapsed": false
   },
   "outputs": [
    {
     "data": {
      "text/plain": [
       "A    1.0\n",
       "B    2.0\n",
       "C    3.0\n",
       "D    4.0\n",
       "E    NaN\n",
       "F    NaN\n",
       "G    0.0\n",
       "dtype: float64"
      ]
     },
     "execution_count": 8,
     "metadata": {},
     "output_type": "execute_result"
    }
   ],
   "source": [
    "# using fill_value arg can be used to set a default value for indexes that do not exist in the current data frame\n",
    "ser2.reindex(['A','B','C','D','E','F', 'G'], fill_value=0)"
   ]
  },
  {
   "cell_type": "code",
   "execution_count": 34,
   "metadata": {
    "collapsed": false
   },
   "outputs": [
    {
     "data": {
      "text/plain": [
       "0        USA\n",
       "5     Mexico\n",
       "10    Canada\n",
       "dtype: object"
      ]
     },
     "execution_count": 34,
     "metadata": {},
     "output_type": "execute_result"
    }
   ],
   "source": [
    "# can use methods to populate a series\n",
    "ser3 = Series(['USA', 'Mexico', 'Canada'], index=[0,5,10])\n",
    "ser3"
   ]
  },
  {
   "cell_type": "code",
   "execution_count": 29,
   "metadata": {
    "collapsed": false
   },
   "outputs": [
    {
     "data": {
      "text/plain": [
       "[0, 1, 2, 3, 4, 5, 6, 7, 8, 9, 10, 11, 12, 13, 14]"
      ]
     },
     "execution_count": 29,
     "metadata": {},
     "output_type": "execute_result"
    }
   ],
   "source": [
    "# make a list of 15 numbers\n",
    "ranger = range(15)\n",
    "ranger"
   ]
  },
  {
   "cell_type": "code",
   "execution_count": 35,
   "metadata": {
    "collapsed": false
   },
   "outputs": [
    {
     "data": {
      "text/plain": [
       "0        USA\n",
       "1        USA\n",
       "2        USA\n",
       "3        USA\n",
       "4        USA\n",
       "5     Mexico\n",
       "6     Mexico\n",
       "7     Mexico\n",
       "8     Mexico\n",
       "9     Mexico\n",
       "10    Canada\n",
       "11    Canada\n",
       "12    Canada\n",
       "13    Canada\n",
       "14    Canada\n",
       "dtype: object"
      ]
     },
     "execution_count": 35,
     "metadata": {},
     "output_type": "execute_result"
    }
   ],
   "source": [
    "# ffill grabs the previous value and forward fills it for the next indices until it hits an index \n",
    "#which already has a value\n",
    "ser3 = ser3.reindex(ranger, method='ffill')\n",
    "ser3"
   ]
  },
  {
   "cell_type": "code",
   "execution_count": 48,
   "metadata": {
    "collapsed": false
   },
   "outputs": [
    {
     "data": {
      "text/html": [
       "<div>\n",
       "<table border=\"1\" class=\"dataframe\">\n",
       "  <thead>\n",
       "    <tr style=\"text-align: right;\">\n",
       "      <th></th>\n",
       "      <th>col1</th>\n",
       "      <th>col2</th>\n",
       "      <th>col3</th>\n",
       "      <th>col4</th>\n",
       "      <th>col5</th>\n",
       "    </tr>\n",
       "  </thead>\n",
       "  <tbody>\n",
       "    <tr>\n",
       "      <th>A</th>\n",
       "      <td>-0.486096</td>\n",
       "      <td>-0.684964</td>\n",
       "      <td>-0.251994</td>\n",
       "      <td>-0.987758</td>\n",
       "      <td>-1.057443</td>\n",
       "    </tr>\n",
       "    <tr>\n",
       "      <th>B</th>\n",
       "      <td>0.120345</td>\n",
       "      <td>-1.081932</td>\n",
       "      <td>-0.081341</td>\n",
       "      <td>0.927192</td>\n",
       "      <td>-0.271566</td>\n",
       "    </tr>\n",
       "    <tr>\n",
       "      <th>D</th>\n",
       "      <td>1.294502</td>\n",
       "      <td>-0.236507</td>\n",
       "      <td>0.999059</td>\n",
       "      <td>-1.053582</td>\n",
       "      <td>1.418902</td>\n",
       "    </tr>\n",
       "    <tr>\n",
       "      <th>E</th>\n",
       "      <td>1.117026</td>\n",
       "      <td>0.655579</td>\n",
       "      <td>-0.145264</td>\n",
       "      <td>-0.194694</td>\n",
       "      <td>-0.086901</td>\n",
       "    </tr>\n",
       "    <tr>\n",
       "      <th>F</th>\n",
       "      <td>1.776034</td>\n",
       "      <td>0.224726</td>\n",
       "      <td>-2.014891</td>\n",
       "      <td>1.164961</td>\n",
       "      <td>1.288909</td>\n",
       "    </tr>\n",
       "  </tbody>\n",
       "</table>\n",
       "</div>"
      ],
      "text/plain": [
       "       col1      col2      col3      col4      col5\n",
       "A -0.486096 -0.684964 -0.251994 -0.987758 -1.057443\n",
       "B  0.120345 -1.081932 -0.081341  0.927192 -0.271566\n",
       "D  1.294502 -0.236507  0.999059 -1.053582  1.418902\n",
       "E  1.117026  0.655579 -0.145264 -0.194694 -0.086901\n",
       "F  1.776034  0.224726 -2.014891  1.164961  1.288909"
      ]
     },
     "execution_count": 48,
     "metadata": {},
     "output_type": "execute_result"
    }
   ],
   "source": [
    "# can apply dimension of matrix to an array\n",
    "dframe = DataFrame(randn(25).reshape(5,5), index=['A', 'B', 'D', 'E', 'F'], \n",
    "                   columns=['col1', 'col2', 'col3','col4', 'col5'])\n",
    "dframe"
   ]
  },
  {
   "cell_type": "code",
   "execution_count": 49,
   "metadata": {
    "collapsed": false
   },
   "outputs": [
    {
     "data": {
      "text/html": [
       "<div>\n",
       "<table border=\"1\" class=\"dataframe\">\n",
       "  <thead>\n",
       "    <tr style=\"text-align: right;\">\n",
       "      <th></th>\n",
       "      <th>col1</th>\n",
       "      <th>col2</th>\n",
       "      <th>col3</th>\n",
       "      <th>col4</th>\n",
       "      <th>col5</th>\n",
       "    </tr>\n",
       "  </thead>\n",
       "  <tbody>\n",
       "    <tr>\n",
       "      <th>A</th>\n",
       "      <td>-0.486096</td>\n",
       "      <td>-0.684964</td>\n",
       "      <td>-0.251994</td>\n",
       "      <td>-0.987758</td>\n",
       "      <td>-1.057443</td>\n",
       "    </tr>\n",
       "    <tr>\n",
       "      <th>B</th>\n",
       "      <td>0.120345</td>\n",
       "      <td>-1.081932</td>\n",
       "      <td>-0.081341</td>\n",
       "      <td>0.927192</td>\n",
       "      <td>-0.271566</td>\n",
       "    </tr>\n",
       "    <tr>\n",
       "      <th>C</th>\n",
       "      <td>NaN</td>\n",
       "      <td>NaN</td>\n",
       "      <td>NaN</td>\n",
       "      <td>NaN</td>\n",
       "      <td>NaN</td>\n",
       "    </tr>\n",
       "    <tr>\n",
       "      <th>D</th>\n",
       "      <td>1.294502</td>\n",
       "      <td>-0.236507</td>\n",
       "      <td>0.999059</td>\n",
       "      <td>-1.053582</td>\n",
       "      <td>1.418902</td>\n",
       "    </tr>\n",
       "    <tr>\n",
       "      <th>E</th>\n",
       "      <td>1.117026</td>\n",
       "      <td>0.655579</td>\n",
       "      <td>-0.145264</td>\n",
       "      <td>-0.194694</td>\n",
       "      <td>-0.086901</td>\n",
       "    </tr>\n",
       "    <tr>\n",
       "      <th>F</th>\n",
       "      <td>1.776034</td>\n",
       "      <td>0.224726</td>\n",
       "      <td>-2.014891</td>\n",
       "      <td>1.164961</td>\n",
       "      <td>1.288909</td>\n",
       "    </tr>\n",
       "  </tbody>\n",
       "</table>\n",
       "</div>"
      ],
      "text/plain": [
       "       col1      col2      col3      col4      col5\n",
       "A -0.486096 -0.684964 -0.251994 -0.987758 -1.057443\n",
       "B  0.120345 -1.081932 -0.081341  0.927192 -0.271566\n",
       "C       NaN       NaN       NaN       NaN       NaN\n",
       "D  1.294502 -0.236507  0.999059 -1.053582  1.418902\n",
       "E  1.117026  0.655579 -0.145264 -0.194694 -0.086901\n",
       "F  1.776034  0.224726 -2.014891  1.164961  1.288909"
      ]
     },
     "execution_count": 49,
     "metadata": {},
     "output_type": "execute_result"
    }
   ],
   "source": [
    "# reindex by adding c row\n",
    "dframe2 = dframe.reindex(['A', 'B','C', 'D', 'E', 'F'])\n",
    "dframe2"
   ]
  },
  {
   "cell_type": "code",
   "execution_count": 47,
   "metadata": {
    "collapsed": false
   },
   "outputs": [
    {
     "data": {
      "text/html": [
       "<div>\n",
       "<table border=\"1\" class=\"dataframe\">\n",
       "  <thead>\n",
       "    <tr style=\"text-align: right;\">\n",
       "      <th></th>\n",
       "      <th>col1</th>\n",
       "      <th>col2</th>\n",
       "      <th>col3</th>\n",
       "      <th>col4</th>\n",
       "      <th>col5</th>\n",
       "      <th>col6</th>\n",
       "    </tr>\n",
       "  </thead>\n",
       "  <tbody>\n",
       "    <tr>\n",
       "      <th>A</th>\n",
       "      <td>-1.653569</td>\n",
       "      <td>-0.273268</td>\n",
       "      <td>-0.834546</td>\n",
       "      <td>-0.003164</td>\n",
       "      <td>0.774412</td>\n",
       "      <td>NaN</td>\n",
       "    </tr>\n",
       "    <tr>\n",
       "      <th>B</th>\n",
       "      <td>-0.887303</td>\n",
       "      <td>-0.676906</td>\n",
       "      <td>-0.850112</td>\n",
       "      <td>-1.938252</td>\n",
       "      <td>0.713222</td>\n",
       "      <td>NaN</td>\n",
       "    </tr>\n",
       "    <tr>\n",
       "      <th>C</th>\n",
       "      <td>NaN</td>\n",
       "      <td>NaN</td>\n",
       "      <td>NaN</td>\n",
       "      <td>NaN</td>\n",
       "      <td>NaN</td>\n",
       "      <td>NaN</td>\n",
       "    </tr>\n",
       "    <tr>\n",
       "      <th>D</th>\n",
       "      <td>-0.354051</td>\n",
       "      <td>0.536107</td>\n",
       "      <td>-1.194559</td>\n",
       "      <td>-0.667111</td>\n",
       "      <td>1.321185</td>\n",
       "      <td>NaN</td>\n",
       "    </tr>\n",
       "    <tr>\n",
       "      <th>E</th>\n",
       "      <td>-0.035564</td>\n",
       "      <td>-1.136184</td>\n",
       "      <td>0.400886</td>\n",
       "      <td>-1.840975</td>\n",
       "      <td>0.098799</td>\n",
       "      <td>NaN</td>\n",
       "    </tr>\n",
       "    <tr>\n",
       "      <th>F</th>\n",
       "      <td>-0.235468</td>\n",
       "      <td>2.290703</td>\n",
       "      <td>1.088644</td>\n",
       "      <td>0.765502</td>\n",
       "      <td>0.378582</td>\n",
       "      <td>NaN</td>\n",
       "    </tr>\n",
       "  </tbody>\n",
       "</table>\n",
       "</div>"
      ],
      "text/plain": [
       "       col1      col2      col3      col4      col5  col6\n",
       "A -1.653569 -0.273268 -0.834546 -0.003164  0.774412   NaN\n",
       "B -0.887303 -0.676906 -0.850112 -1.938252  0.713222   NaN\n",
       "C       NaN       NaN       NaN       NaN       NaN   NaN\n",
       "D -0.354051  0.536107 -1.194559 -0.667111  1.321185   NaN\n",
       "E -0.035564 -1.136184  0.400886 -1.840975  0.098799   NaN\n",
       "F -0.235468  2.290703  1.088644  0.765502  0.378582   NaN"
      ]
     },
     "execution_count": 47,
     "metadata": {},
     "output_type": "execute_result"
    }
   ],
   "source": [
    "# reindex columns\n",
    "new_columns = ['col1', 'col2', 'col3', 'col4', 'col5', 'col6']\n",
    "dframe2 = dframe2.reindex(columns=new_columns)\n",
    "dframe2"
   ]
  },
  {
   "cell_type": "code",
   "execution_count": 50,
   "metadata": {
    "collapsed": false
   },
   "outputs": [
    {
     "data": {
      "text/html": [
       "<div>\n",
       "<table border=\"1\" class=\"dataframe\">\n",
       "  <thead>\n",
       "    <tr style=\"text-align: right;\">\n",
       "      <th></th>\n",
       "      <th>col1</th>\n",
       "      <th>col2</th>\n",
       "      <th>col3</th>\n",
       "      <th>col4</th>\n",
       "      <th>col5</th>\n",
       "    </tr>\n",
       "  </thead>\n",
       "  <tbody>\n",
       "    <tr>\n",
       "      <th>A</th>\n",
       "      <td>-0.486096</td>\n",
       "      <td>-0.684964</td>\n",
       "      <td>-0.251994</td>\n",
       "      <td>-0.987758</td>\n",
       "      <td>-1.057443</td>\n",
       "    </tr>\n",
       "    <tr>\n",
       "      <th>B</th>\n",
       "      <td>0.120345</td>\n",
       "      <td>-1.081932</td>\n",
       "      <td>-0.081341</td>\n",
       "      <td>0.927192</td>\n",
       "      <td>-0.271566</td>\n",
       "    </tr>\n",
       "    <tr>\n",
       "      <th>D</th>\n",
       "      <td>1.294502</td>\n",
       "      <td>-0.236507</td>\n",
       "      <td>0.999059</td>\n",
       "      <td>-1.053582</td>\n",
       "      <td>1.418902</td>\n",
       "    </tr>\n",
       "    <tr>\n",
       "      <th>E</th>\n",
       "      <td>1.117026</td>\n",
       "      <td>0.655579</td>\n",
       "      <td>-0.145264</td>\n",
       "      <td>-0.194694</td>\n",
       "      <td>-0.086901</td>\n",
       "    </tr>\n",
       "    <tr>\n",
       "      <th>F</th>\n",
       "      <td>1.776034</td>\n",
       "      <td>0.224726</td>\n",
       "      <td>-2.014891</td>\n",
       "      <td>1.164961</td>\n",
       "      <td>1.288909</td>\n",
       "    </tr>\n",
       "  </tbody>\n",
       "</table>\n",
       "</div>"
      ],
      "text/plain": [
       "       col1      col2      col3      col4      col5\n",
       "A -0.486096 -0.684964 -0.251994 -0.987758 -1.057443\n",
       "B  0.120345 -1.081932 -0.081341  0.927192 -0.271566\n",
       "D  1.294502 -0.236507  0.999059 -1.053582  1.418902\n",
       "E  1.117026  0.655579 -0.145264 -0.194694 -0.086901\n",
       "F  1.776034  0.224726 -2.014891  1.164961  1.288909"
      ]
     },
     "execution_count": 50,
     "metadata": {},
     "output_type": "execute_result"
    }
   ],
   "source": [
    "# orginal dframe\n",
    "dframe"
   ]
  },
  {
   "cell_type": "code",
   "execution_count": 51,
   "metadata": {
    "collapsed": false
   },
   "outputs": [
    {
     "data": {
      "text/html": [
       "<div>\n",
       "<table border=\"1\" class=\"dataframe\">\n",
       "  <thead>\n",
       "    <tr style=\"text-align: right;\">\n",
       "      <th></th>\n",
       "      <th>col1</th>\n",
       "      <th>col2</th>\n",
       "      <th>col3</th>\n",
       "      <th>col4</th>\n",
       "      <th>col5</th>\n",
       "      <th>col6</th>\n",
       "    </tr>\n",
       "  </thead>\n",
       "  <tbody>\n",
       "    <tr>\n",
       "      <th>A</th>\n",
       "      <td>-0.486096</td>\n",
       "      <td>-0.684964</td>\n",
       "      <td>-0.251994</td>\n",
       "      <td>-0.987758</td>\n",
       "      <td>-1.057443</td>\n",
       "      <td>NaN</td>\n",
       "    </tr>\n",
       "    <tr>\n",
       "      <th>B</th>\n",
       "      <td>0.120345</td>\n",
       "      <td>-1.081932</td>\n",
       "      <td>-0.081341</td>\n",
       "      <td>0.927192</td>\n",
       "      <td>-0.271566</td>\n",
       "      <td>NaN</td>\n",
       "    </tr>\n",
       "    <tr>\n",
       "      <th>CD</th>\n",
       "      <td>NaN</td>\n",
       "      <td>NaN</td>\n",
       "      <td>NaN</td>\n",
       "      <td>NaN</td>\n",
       "      <td>NaN</td>\n",
       "      <td>NaN</td>\n",
       "    </tr>\n",
       "    <tr>\n",
       "      <th>E</th>\n",
       "      <td>1.117026</td>\n",
       "      <td>0.655579</td>\n",
       "      <td>-0.145264</td>\n",
       "      <td>-0.194694</td>\n",
       "      <td>-0.086901</td>\n",
       "      <td>NaN</td>\n",
       "    </tr>\n",
       "    <tr>\n",
       "      <th>F</th>\n",
       "      <td>1.776034</td>\n",
       "      <td>0.224726</td>\n",
       "      <td>-2.014891</td>\n",
       "      <td>1.164961</td>\n",
       "      <td>1.288909</td>\n",
       "      <td>NaN</td>\n",
       "    </tr>\n",
       "  </tbody>\n",
       "</table>\n",
       "</div>"
      ],
      "text/plain": [
       "        col1      col2      col3      col4      col5  col6\n",
       "A  -0.486096 -0.684964 -0.251994 -0.987758 -1.057443   NaN\n",
       "B   0.120345 -1.081932 -0.081341  0.927192 -0.271566   NaN\n",
       "CD       NaN       NaN       NaN       NaN       NaN   NaN\n",
       "E   1.117026  0.655579 -0.145264 -0.194694 -0.086901   NaN\n",
       "F   1.776034  0.224726 -2.014891  1.164961  1.288909   NaN"
      ]
     },
     "execution_count": 51,
     "metadata": {},
     "output_type": "execute_result"
    }
   ],
   "source": [
    "# using ix to reindex 1st arg is rows, second arg is columns\n",
    "dframe.ix[['A','B','C' 'D', 'E', 'F'], new_columns]"
   ]
  },
  {
   "cell_type": "code",
   "execution_count": null,
   "metadata": {
    "collapsed": true
   },
   "outputs": [],
   "source": []
  }
 ],
 "metadata": {
  "kernelspec": {
   "display_name": "Python 2",
   "language": "python",
   "name": "python2"
  },
  "language_info": {
   "codemirror_mode": {
    "name": "ipython",
    "version": 2
   },
   "file_extension": ".py",
   "mimetype": "text/x-python",
   "name": "python",
   "nbconvert_exporter": "python",
   "pygments_lexer": "ipython2",
   "version": "2.7.11"
  }
 },
 "nbformat": 4,
 "nbformat_minor": 0
}
